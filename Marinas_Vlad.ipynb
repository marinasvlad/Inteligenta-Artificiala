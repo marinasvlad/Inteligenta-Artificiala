{
  "nbformat": 4,
  "nbformat_minor": 0,
  "metadata": {
    "colab": {
      "name": "Untitled8.ipynb",
      "provenance": [],
      "collapsed_sections": [],
      "machine_shape": "hm"
    },
    "kernelspec": {
      "name": "python3",
      "display_name": "Python 3"
    }
  },
  "cells": [
    {
      "cell_type": "code",
      "metadata": {
        "id": "ECA1HJmjdVGZ",
        "colab_type": "code",
        "colab": {}
      },
      "source": [
        "import csv\n",
        "import nltk\n",
        "import pandas as pd\n",
        "from sklearn.naive_bayes import MultinomialNB, GaussianNB, BernoulliNB\n",
        "from nltk.classify.scikitlearn import SklearnClassifier\n",
        "\n",
        "document_train = open(\"train_samples.txt\")\n",
        "document_labels_train = open(\"train_labels.txt\")\n",
        "document_test = open(\"validation_samples.txt\")\n",
        "document_labels_test = open(\"validation_labels.txt\")\n",
        "document_final_test = open(\"test_samples.txt\")\n",
        "\n",
        "\n",
        "\n",
        "label_train = []  #in aceasta lista vor fi salvate labeurile corespunzatoare textelor de training (0 sau 1)\n",
        "\n",
        "for line in document_labels_train:\n",
        "    for word in line.split()[1]:        #scapam de primul \"cuvant\" si salvam al 2-lea cuvant(adica 0 sau 1)\n",
        "        label_train += [word]\n",
        "\n",
        "label_test = [] #in aceasta lista vor fi salvate labeurile corespunzatoare textelor de test (0 sau 1)\n",
        "\n",
        "for line in document_labels_test:\n",
        "    for word in line.split()[1]:   #scapam de primul \"cuvant\" si salvam al 2-lea cuvant(adica 0 sau 1)\n",
        "        label_test += [word]"
      ],
      "execution_count": 0,
      "outputs": []
    },
    {
      "cell_type": "code",
      "metadata": {
        "id": "t6aK3BNkdxvd",
        "colab_type": "code",
        "colab": {}
      },
      "source": [
        "rows_train = []   #in aceasta lista vor fi salvate date de tipul [ [lista de cuvinte] , label(1 sau 0)] pentru fiecare linie de text din tran_samples\n",
        "toate_cuvinte_train = []  #in aceasta lista vor fi salvate toate cuvintele din train_samples\n",
        "index_train = 0\n",
        "for line in document_train:   #luam fiecare linie\n",
        "   linie_train =  ' '.join(line.split()[1:])  #eliminam primul \"cuvant\" din linie\n",
        "   linie_train = linie_train.split();    #despartim fiecare cuvant din linie si salvam in linie aceste cuvinte\n",
        "   rows_train += [[linie_train, label_train[index_train]]]  #salvam cuvintele corespunzatoare unei linii si labelul corespunzator in lista rows_train\n",
        "   index_train = index_train + 1\n",
        "   for cuvant in linie_train:    #fiecare cuvant al fiecarei linii e salvat intr-o lista de cuvinte ce contine toate cuvintele din train_samples\n",
        "      toate_cuvinte_train += [cuvant]\n",
        "\n",
        "rows_test = []  #in aceasta lista vor fi salvate date de tipul [ [lista de cuvinte] , label(1 sau 0)] pentru fiecare linie de text din validation_samples\n",
        "toate_cuvinte_test = []   #in aceasta lista vor fi salvate toate cuvintele din validation_samples\n",
        "index_test = 0;\n",
        "TST = [] #folosim lista asta pentru a realiza predictiile pentru test_set si a construi confusion matrix\n",
        "for line_test in document_test:    #luam fiecare linie\n",
        "   linie_test =  ' '.join(line_test.split()[1:])   #eliminam primul \"cuvant\" din linie\n",
        "   linie_test = linie_test.split();         #despartim fiecare cuvant din linie si salvam in linie aceste cuvinte\n",
        "   TST += [linie_test]\n",
        "   rows_test += [[linie_test, label_test[index_test]]]     #salvam cuvintele corespunzatoare unei linii si labelul corespunzator in lista rows_test\n",
        "   index_test = index_test + 1\n",
        "   for cuvant in linie_test:      #fiecare cuvant al fiecarei linii e salvat intr-o lista de cuvinte ce contine toate cuvintele din validation_samples\n",
        "      toate_cuvinte_test += [cuvant]\n",
        "\n",
        "\n",
        "\n",
        "test_final = []   #in aceasta lista vor fi salvate cuvintele din fiecare linie din test_labels\n",
        "\n",
        "\n",
        "for line in document_final_test:      #luam fiecare linie\n",
        "  \n",
        "  linie_test_final =  ' '.join(line.split()[1:])      #eliminam primul \"cuvant\" din linie\n",
        "  linie_test_final = linie_test_final.split();        #despartim fiecare cuvant din linie si salvam in linie aceste cuvinte\n",
        "  test_final.append(linie_test_final)                 #salvam fiecare cuvant al fiecarei linii intr-o lista\n",
        "\n",
        "toate_cuv = list(toate_cuvinte_train) + list(toate_cuvinte_test)     #combinam cuvintele existente in textele din train_labeles si validation_labeles\n",
        "\n",
        "all_words = nltk.FreqDist(list(toate_cuv))   #salvam frecventele cuvintelor(metoda bag of words)\n",
        "\n",
        "word_features = list(all_words)[:2000]   #salvam cele mai populare 2000 de cuvinte"
      ],
      "execution_count": 0,
      "outputs": []
    },
    {
      "cell_type": "code",
      "metadata": {
        "id": "D9RqnPcH1MF2",
        "colab_type": "code",
        "outputId": "bf6717e1-1a5e-4b27-9701-c7c809247d7a",
        "colab": {
          "base_uri": "https://localhost:8080/",
          "height": 424
        }
      },
      "source": [
        "coloane_train = ['Text', 'Label(0 sau 1)']\n",
        "print_data = pd.DataFrame(rows_train, columns=coloane_train)\n",
        "print_data"
      ],
      "execution_count": 17,
      "outputs": [
        {
          "output_type": "execute_result",
          "data": {
            "text/html": [
              "<div>\n",
              "<style scoped>\n",
              "    .dataframe tbody tr th:only-of-type {\n",
              "        vertical-align: middle;\n",
              "    }\n",
              "\n",
              "    .dataframe tbody tr th {\n",
              "        vertical-align: top;\n",
              "    }\n",
              "\n",
              "    .dataframe thead th {\n",
              "        text-align: right;\n",
              "    }\n",
              "</style>\n",
              "<table border=\"1\" class=\"dataframe\">\n",
              "  <thead>\n",
              "    <tr style=\"text-align: right;\">\n",
              "      <th></th>\n",
              "      <th>Text</th>\n",
              "      <th>Label(0 sau 1)</th>\n",
              "    </tr>\n",
              "  </thead>\n",
              "  <tbody>\n",
              "    <tr>\n",
              "      <th>0</th>\n",
              "      <td>[;%fE, mr#&amp;, crmx, temjc@m, %'wb:, }hHAm@@m, y...</td>\n",
              "      <td>1</td>\n",
              "    </tr>\n",
              "    <tr>\n",
              "      <th>1</th>\n",
              "      <td>[sAFW, K#xk}t, fH@ae, m&amp;Xd, &gt;h&amp;, @#, l@Rd}a, @...</td>\n",
              "      <td>1</td>\n",
              "    </tr>\n",
              "    <tr>\n",
              "      <th>2</th>\n",
              "      <td>[zgHy%, @kA, qCrw, h@@m, he|%WA, Eh}W@m, mkZrm...</td>\n",
              "      <td>1</td>\n",
              "    </tr>\n",
              "    <tr>\n",
              "      <th>3</th>\n",
              "      <td>[!ck&amp;, g@eAh, =F;, me, @Hc, Zk&amp;}, mk@eAhH, jmj...</td>\n",
              "      <td>1</td>\n",
              "    </tr>\n",
              "    <tr>\n",
              "      <th>4</th>\n",
              "      <td>[zpW, hjreaek, egae, h:, (AvnY, }e, m@p:, Ejfm...</td>\n",
              "      <td>0</td>\n",
              "    </tr>\n",
              "    <tr>\n",
              "      <th>...</th>\n",
              "      <td>...</td>\n",
              "      <td>...</td>\n",
              "    </tr>\n",
              "    <tr>\n",
              "      <th>7752</th>\n",
              "      <td>[Kopv, rSUm', EhfZm}a@m, Zh@a%p, (r=*, hZ, mgA...</td>\n",
              "      <td>0</td>\n",
              "    </tr>\n",
              "    <tr>\n",
              "      <th>7753</th>\n",
              "      <td>[E%&lt;Hh, $&amp;FW, m*#, m*#, m*#, m*#H, ga@#&amp;e, }m}...</td>\n",
              "      <td>1</td>\n",
              "    </tr>\n",
              "    <tr>\n",
              "      <th>7754</th>\n",
              "      <td>[SZU:$, r(&lt;@, k:, HHf@, re:@, Hhrfa@m, oEgAa, ...</td>\n",
              "      <td>1</td>\n",
              "    </tr>\n",
              "    <tr>\n",
              "      <th>7755</th>\n",
              "      <td>[.ZeEq, jpxdrl, :q, H&gt;w;, n&gt;lAx, c'h$v, aAx&gt;=,...</td>\n",
              "      <td>1</td>\n",
              "    </tr>\n",
              "    <tr>\n",
              "      <th>7756</th>\n",
              "      <td>[Bo=@*(, eglc, gq&gt;, Zh#, e@Aah, B*kiY, D:(sTE,...</td>\n",
              "      <td>1</td>\n",
              "    </tr>\n",
              "  </tbody>\n",
              "</table>\n",
              "<p>7757 rows × 2 columns</p>\n",
              "</div>"
            ],
            "text/plain": [
              "                                                   Text Label(0 sau 1)\n",
              "0     [;%fE, mr#&, crmx, temjc@m, %'wb:, }hHAm@@m, y...              1\n",
              "1     [sAFW, K#xk}t, fH@ae, m&Xd, >h&, @#, l@Rd}a, @...              1\n",
              "2     [zgHy%, @kA, qCrw, h@@m, he|%WA, Eh}W@m, mkZrm...              1\n",
              "3     [!ck&, g@eAh, =F;, me, @Hc, Zk&}, mk@eAhH, jmj...              1\n",
              "4     [zpW, hjreaek, egae, h:, (AvnY, }e, m@p:, Ejfm...              0\n",
              "...                                                 ...            ...\n",
              "7752  [Kopv, rSUm', EhfZm}a@m, Zh@a%p, (r=*, hZ, mgA...              0\n",
              "7753  [E%<Hh, $&FW, m*#, m*#, m*#, m*#H, ga@#&e, }m}...              1\n",
              "7754  [SZU:$, r(<@, k:, HHf@, re:@, Hhrfa@m, oEgAa, ...              1\n",
              "7755  [.ZeEq, jpxdrl, :q, H>w;, n>lAx, c'h$v, aAx>=,...              1\n",
              "7756  [Bo=@*(, eglc, gq>, Zh#, e@Aah, B*kiY, D:(sTE,...              1\n",
              "\n",
              "[7757 rows x 2 columns]"
            ]
          },
          "metadata": {
            "tags": []
          },
          "execution_count": 17
        }
      ]
    },
    {
      "cell_type": "code",
      "metadata": {
        "id": "c7N8WZu31M5G",
        "colab_type": "code",
        "outputId": "23ddd3c1-8d8e-4ec2-e7b5-e8c4eec1abda",
        "colab": {
          "base_uri": "https://localhost:8080/",
          "height": 424
        }
      },
      "source": [
        "coloane_test = ['Text', 'Label(0 sau 1)']\n",
        "print_data = pd.DataFrame(rows_test, columns=coloane_test)\n",
        "print_data"
      ],
      "execution_count": 18,
      "outputs": [
        {
          "output_type": "execute_result",
          "data": {
            "text/html": [
              "<div>\n",
              "<style scoped>\n",
              "    .dataframe tbody tr th:only-of-type {\n",
              "        vertical-align: middle;\n",
              "    }\n",
              "\n",
              "    .dataframe tbody tr th {\n",
              "        vertical-align: top;\n",
              "    }\n",
              "\n",
              "    .dataframe thead th {\n",
              "        text-align: right;\n",
              "    }\n",
              "</style>\n",
              "<table border=\"1\" class=\"dataframe\">\n",
              "  <thead>\n",
              "    <tr style=\"text-align: right;\">\n",
              "      <th></th>\n",
              "      <th>Text</th>\n",
              "      <th>Label(0 sau 1)</th>\n",
              "    </tr>\n",
              "  </thead>\n",
              "  <tbody>\n",
              "    <tr>\n",
              "      <th>0</th>\n",
              "      <td>[E*Zjv, mj=, Ee($, A@mpe, hZ, .ycn;, *gjlU, H&amp;...</td>\n",
              "      <td>0</td>\n",
              "    </tr>\n",
              "    <tr>\n",
              "      <th>1</th>\n",
              "      <td>[Xea', }hrAH@m, mnSb(, Bg:z, HA&amp;@@, Erkp@m, g*...</td>\n",
              "      <td>0</td>\n",
              "    </tr>\n",
              "    <tr>\n",
              "      <th>2</th>\n",
              "      <td>[HfKW, tlWo, ack@m, qw*, A!n=, HS|gDX, #@*, hZ...</td>\n",
              "      <td>1</td>\n",
              "    </tr>\n",
              "    <tr>\n",
              "      <th>3</th>\n",
              "      <td>[Rwya, WA'n, jr;hgF, Tk@yl, gh@, @kmAhf, gvH, ...</td>\n",
              "      <td>1</td>\n",
              "    </tr>\n",
              "    <tr>\n",
              "      <th>4</th>\n",
              "      <td>[&lt;#XF, b}Em, RBpf, hem@f%, A&amp;re, h:, k:, mAHx,...</td>\n",
              "      <td>0</td>\n",
              "    </tr>\n",
              "    <tr>\n",
              "      <th>...</th>\n",
              "      <td>...</td>\n",
              "      <td>...</td>\n",
              "    </tr>\n",
              "    <tr>\n",
              "      <th>2651</th>\n",
              "      <td>[nSAbW, acrA:, am@Ae, :.hB, rhf#aH, cHmf, rm=Z...</td>\n",
              "      <td>1</td>\n",
              "    </tr>\n",
              "    <tr>\n",
              "      <th>2652</th>\n",
              "      <td>[rxa(, @YHo, vCj, &lt;zD, iex, W&gt;B.#, dW&gt;, RElTp,...</td>\n",
              "      <td>1</td>\n",
              "    </tr>\n",
              "    <tr>\n",
              "      <th>2653</th>\n",
              "      <td>[E&gt;}(, gmh%, hj}A, wNTFj, h&amp;eh, }mrkj@mk, Z@@m...</td>\n",
              "      <td>0</td>\n",
              "    </tr>\n",
              "    <tr>\n",
              "      <th>2654</th>\n",
              "      <td>[NE*a, EprZ, gj}A, }m#, @kch, }m#, p@wxK, me, ...</td>\n",
              "      <td>1</td>\n",
              "    </tr>\n",
              "    <tr>\n",
              "      <th>2655</th>\n",
              "      <td>[&lt;xwE, rkafj@m, rmx%, }A, =rm(k, HhAe, ekfre, ...</td>\n",
              "      <td>0</td>\n",
              "    </tr>\n",
              "  </tbody>\n",
              "</table>\n",
              "<p>2656 rows × 2 columns</p>\n",
              "</div>"
            ],
            "text/plain": [
              "                                                   Text Label(0 sau 1)\n",
              "0     [E*Zjv, mj=, Ee($, A@mpe, hZ, .ycn;, *gjlU, H&...              0\n",
              "1     [Xea', }hrAH@m, mnSb(, Bg:z, HA&@@, Erkp@m, g*...              0\n",
              "2     [HfKW, tlWo, ack@m, qw*, A!n=, HS|gDX, #@*, hZ...              1\n",
              "3     [Rwya, WA'n, jr;hgF, Tk@yl, gh@, @kmAhf, gvH, ...              1\n",
              "4     [<#XF, b}Em, RBpf, hem@f%, A&re, h:, k:, mAHx,...              0\n",
              "...                                                 ...            ...\n",
              "2651  [nSAbW, acrA:, am@Ae, :.hB, rhf#aH, cHmf, rm=Z...              1\n",
              "2652  [rxa(, @YHo, vCj, <zD, iex, W>B.#, dW>, RElTp,...              1\n",
              "2653  [E>}(, gmh%, hj}A, wNTFj, h&eh, }mrkj@mk, Z@@m...              0\n",
              "2654  [NE*a, EprZ, gj}A, }m#, @kch, }m#, p@wxK, me, ...              1\n",
              "2655  [<xwE, rkafj@m, rmx%, }A, =rm(k, HhAe, ekfre, ...              0\n",
              "\n",
              "[2656 rows x 2 columns]"
            ]
          },
          "metadata": {
            "tags": []
          },
          "execution_count": 18
        }
      ]
    },
    {
      "cell_type": "code",
      "metadata": {
        "id": "BECmAkCYrtlW",
        "colab_type": "code",
        "colab": {}
      },
      "source": [
        "def find_features(document):   #cream o functie ce extrage \"features\" i.e.\n",
        "    words = set(document)      #o lista ce contine cuvintele unei linii de text\n",
        "    features = {}     #cream o lista pentru features\n",
        "    for w in word_features:    #luam fiecare cuvant din lista celor mai frecvente cuvinte\n",
        "      features[w] = (w in words) #marcam fiecare cuvant din linie care e regasit in lista de cuvinte frecvente ca fiind true restul false\n",
        "    return features\n",
        "\n",
        "featuresets_train = [(find_features(d), c) for (d,c) in rows_train]        #cream un featureset "
      ],
      "execution_count": 0,
      "outputs": []
    },
    {
      "cell_type": "code",
      "metadata": {
        "id": "cGXenKuqDTMW",
        "colab_type": "code",
        "colab": {}
      },
      "source": [
        "featuresets_test = [(find_features(d), c) for (d,c) in rows_test]\n",
        "train_set = featuresets_train\n",
        "test_set = featuresets_test\n",
        "classifier = nltk.NaiveBayesClassifier.train(train_set)   #construim clasificatorul prin metoda Naive Bayes"
      ],
      "execution_count": 0,
      "outputs": []
    },
    {
      "cell_type": "code",
      "metadata": {
        "id": "TaKLVNHsslrY",
        "colab_type": "code",
        "outputId": "b90e3ce5-a76d-410e-925f-2abfbf0b5664",
        "colab": {
          "base_uri": "https://localhost:8080/",
          "height": 256
        }
      },
      "source": [
        "print(nltk.classify.accuracy(classifier, test_set))\n",
        "print(classifier.show_most_informative_features())"
      ],
      "execution_count": 21,
      "outputs": [
        {
          "output_type": "stream",
          "text": [
            "0.6027861445783133\n",
            "Most Informative Features\n",
            "                  ahk#@m = True                0 : 1      =     26.0 : 1.0\n",
            "                 Ehrpe@m = True                0 : 1      =     15.0 : 1.0\n",
            "                Ehahk#@m = True                0 : 1      =     14.0 : 1.0\n",
            "                }me@rH@m = True                0 : 1      =     13.8 : 1.0\n",
            "                 cZmka@m = True                0 : 1      =     12.0 : 1.0\n",
            "                  EhchcA = True                0 : 1      =     10.9 : 1.0\n",
            "                   }#ehk = True                0 : 1      =     10.6 : 1.0\n",
            "                  amkc@@ = True                0 : 1      =      9.2 : 1.0\n",
            "                     rpe = True                0 : 1      =      8.8 : 1.0\n",
            "                 ahkpa@m = True                0 : 1      =      8.6 : 1.0\n",
            "None\n"
          ],
          "name": "stdout"
        }
      ]
    },
    {
      "cell_type": "code",
      "metadata": {
        "id": "41CyqktzuDkz",
        "colab_type": "code",
        "colab": {
          "base_uri": "https://localhost:8080/",
          "height": 35
        },
        "outputId": "7631b6ea-9bdc-402c-c855-6c7a61044f79"
      },
      "source": [
        "MNB_Classifier = SklearnClassifier(MultinomialNB())\n",
        "MNB_Classifier.train(train_set)"
      ],
      "execution_count": 28,
      "outputs": [
        {
          "output_type": "execute_result",
          "data": {
            "text/plain": [
              "<SklearnClassifier(MultinomialNB(alpha=1.0, class_prior=None, fit_prior=True))>"
            ]
          },
          "metadata": {
            "tags": []
          },
          "execution_count": 28
        }
      ]
    },
    {
      "cell_type": "code",
      "metadata": {
        "id": "ARkNzaTswgY0",
        "colab_type": "code",
        "colab": {
          "base_uri": "https://localhost:8080/",
          "height": 35
        },
        "outputId": "0ec84c9d-60e6-47d4-9454-574fbc7f4ba2"
      },
      "source": [
        "print(\"Multinomial naive-Bayes acuracy:\", nltk.classify.accuracy(MNB_Classifier, test_set))"
      ],
      "execution_count": 29,
      "outputs": [
        {
          "output_type": "stream",
          "text": [
            "Multinomial naive-Bayes acuracy: 0.6257530120481928\n"
          ],
          "name": "stdout"
        }
      ]
    },
    {
      "cell_type": "code",
      "metadata": {
        "id": "DmTSqbUPwquE",
        "colab_type": "code",
        "colab": {
          "base_uri": "https://localhost:8080/",
          "height": 35
        },
        "outputId": "eb0b17e9-d5b8-4974-fd1e-86f4f30f6de2"
      },
      "source": [
        "BernoulliNB_Classifier = SklearnClassifier(BernoulliNB())\n",
        "BernoulliNB_Classifier.train(train_set)"
      ],
      "execution_count": 31,
      "outputs": [
        {
          "output_type": "execute_result",
          "data": {
            "text/plain": [
              "<SklearnClassifier(BernoulliNB(alpha=1.0, binarize=0.0, class_prior=None, fit_prior=True))>"
            ]
          },
          "metadata": {
            "tags": []
          },
          "execution_count": 31
        }
      ]
    },
    {
      "cell_type": "code",
      "metadata": {
        "id": "qdvrTFUMw4hp",
        "colab_type": "code",
        "colab": {
          "base_uri": "https://localhost:8080/",
          "height": 35
        },
        "outputId": "c647c623-ba8c-415b-f8e5-f0ad7bee942a"
      },
      "source": [
        "print(\"Bernoulli naive-Bayes acuracy:\", nltk.classify.accuracy(BernoulliNB_Classifier, test_set))"
      ],
      "execution_count": 33,
      "outputs": [
        {
          "output_type": "stream",
          "text": [
            "Bernoulli naive-Bayes acuracy: 0.6005271084337349\n"
          ],
          "name": "stdout"
        }
      ]
    },
    {
      "cell_type": "code",
      "metadata": {
        "id": "XqYe95wbzjih",
        "colab_type": "code",
        "colab": {}
      },
      "source": [
        "test_result = []\n",
        "for i in TST:\n",
        "  test_result += classifier.classify(find_features(i))\n"
      ],
      "execution_count": 0,
      "outputs": []
    },
    {
      "cell_type": "code",
      "metadata": {
        "id": "dK4mReOBx9Dm",
        "colab_type": "code",
        "outputId": "09136298-b05b-4e0b-ef2c-a650f433d6a8",
        "colab": {
          "base_uri": "https://localhost:8080/",
          "height": 274
        }
      },
      "source": [
        "from sklearn.metrics import confusion_matrix \n",
        "from sklearn.metrics import accuracy_score \n",
        "from sklearn.metrics import classification_report \n",
        "\n",
        "conf_matr = confusion_matrix(label_test,test_result)\n",
        "print('Confusion Matrix :')\n",
        "print(conf_matr) \n",
        "print('Acuracy :',accuracy_score(label_test, test_result)) \n",
        "print('Report : ')\n",
        "print(classification_report(label_test, test_result)) "
      ],
      "execution_count": 35,
      "outputs": [
        {
          "output_type": "stream",
          "text": [
            "Confusion Matrix :\n",
            "[[ 553  748]\n",
            " [ 307 1048]]\n",
            "Acuracy : 0.6027861445783133\n",
            "Report : \n",
            "              precision    recall  f1-score   support\n",
            "\n",
            "           0       0.64      0.43      0.51      1301\n",
            "           1       0.58      0.77      0.67      1355\n",
            "\n",
            "    accuracy                           0.60      2656\n",
            "   macro avg       0.61      0.60      0.59      2656\n",
            "weighted avg       0.61      0.60      0.59      2656\n",
            "\n"
          ],
          "name": "stdout"
        }
      ]
    },
    {
      "cell_type": "code",
      "metadata": {
        "id": "vBFLatP62w6R",
        "colab_type": "code",
        "colab": {}
      },
      "source": [
        "indici = []\n",
        "\n",
        "with open('test_samples.txt') as test_samples:\n",
        "  \n",
        "  for line in test_samples:\n",
        "    index = line.split('\\t', 1)[0]\n",
        "    indici.append(index)\n",
        "\n",
        "\n",
        "with open('submission.csv', 'w', newline='') as f:\n",
        "  wrt = csv.writer(f, delimiter=',')\n",
        "  wrt.writerow(['id', 'label'])\n",
        "  for index in range(len(test_final)):\n",
        "      wrt.writerow([indici[index],classifier.classify(find_features(test_final[index]))])\n",
        "\n"
      ],
      "execution_count": 0,
      "outputs": []
    }
  ]
}